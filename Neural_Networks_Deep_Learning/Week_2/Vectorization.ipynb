{
 "cells": [
  {
   "cell_type": "markdown",
   "source": [
    "Vectorization for utilization of parallel computing advantages"
   ],
   "metadata": {
    "collapsed": false
   },
   "id": "f5e687f89797d0d9"
  },
  {
   "cell_type": "code",
   "execution_count": 11,
   "id": "initial_id",
   "metadata": {
    "collapsed": true,
    "ExecuteTime": {
     "end_time": "2024-01-28T23:09:38.030914300Z",
     "start_time": "2024-01-28T23:09:38.009966900Z"
    }
   },
   "outputs": [
    {
     "name": "stdout",
     "output_type": "stream",
     "text": [
      "[1 2 3 4]\n"
     ]
    }
   ],
   "source": [
    "import numpy as np\n",
    "import time\n",
    "\n",
    "a = np.array([1, 2,3, 4])\n",
    "print(a)\n"
   ]
  },
  {
   "cell_type": "markdown",
   "source": [
    "Percentage improvement of vectorization vs for loop"
   ],
   "metadata": {
    "collapsed": false
   },
   "id": "c62430bba90141ad"
  },
  {
   "cell_type": "code",
   "outputs": [
    {
     "name": "stdout",
     "output_type": "stream",
     "text": [
      "Vecotrized version: 13.964176177978516ms\n",
      "Vectorized time: 13.964176177978516ms\n",
      "Loop time: 6596.362352371216ms\n",
      "Percent improvement: 572\n",
      "Do values match? 2499848.0880826344 = 2499848.088082611\n"
     ]
    }
   ],
   "source": [
    "size = 1000000\n",
    "a = np.random.rand(size)\n",
    "b = np.random.rand(size)\n",
    "\n",
    "tic = time.time()\n",
    "c1 = np.dot(a,b)\n",
    "toc = time.time()\n",
    "dt1 = 1000*(toc-tic)\n",
    "\n",
    "print(\"Vecotrized version: \" + str(dt1) + \"ms\")\n",
    "\n",
    "c2 = 0\n",
    "tic = time.time()\n",
    "for i in range(size):\n",
    "    c2 += a[i]*b[i]\n",
    "toc = time.time()\n",
    "dt2 = 1000*(toc - tic)\n",
    "vp = dt2/dt1\n",
    "print(\"Vectorized time: \" + str(dt1) + \"ms\" + \"\\nLoop time: \" + str(dt2) + \"ms\" + \"\\nPercent improvement: \" + str(int(vp+100)))\n",
    "print(\"Do values match? \" + str(c1) + \" = \" + str(c2))"
   ],
   "metadata": {
    "collapsed": false,
    "ExecuteTime": {
     "end_time": "2024-01-28T02:13:52.889685100Z",
     "start_time": "2024-01-28T02:13:45.897727600Z"
    }
   },
   "id": "46a19e0e251dab39",
   "execution_count": 10
  },
  {
   "cell_type": "markdown",
   "source": [
    "Efficient numpy operators "
   ],
   "metadata": {
    "collapsed": false
   },
   "id": "7e03ad1862600241"
  },
  {
   "cell_type": "code",
   "outputs": [
    {
     "data": {
      "text/plain": "array([0.        , 0.69314718, 1.09861229, 1.38629436])"
     },
     "execution_count": 13,
     "metadata": {},
     "output_type": "execute_result"
    }
   ],
   "source": [
    "# Log of matrix\n",
    "np.log(a)\n",
    "# Absolute values\n",
    "np.abs(a)\n",
    "# Maximum wrt floor\n",
    "np.maximum(a,0) # Floor of 0\n"
   ],
   "metadata": {
    "collapsed": false,
    "ExecuteTime": {
     "end_time": "2024-01-28T23:10:27.136863800Z",
     "start_time": "2024-01-28T23:10:27.103287400Z"
    }
   },
   "id": "5a6658bbd27c8c4a",
   "execution_count": 13
  },
  {
   "cell_type": "markdown",
   "source": [
    "Broadcasting example - Broadcasting occurs anytime python has to expand a matrix or constant to suit the operation. i.e. [1 2 3] + 100 = [1 2 3] + [100 100 100] = [101 102 103]"
   ],
   "metadata": {
    "collapsed": false
   },
   "id": "fd7783d06880d2d6"
  },
  {
   "cell_type": "code",
   "outputs": [],
   "source": [
    "import numpy as np\n",
    "\n",
    "A = np.array([[56.0, 0.0, 4.0, 68.0], [1.2, 104.0, 52.0, 8.0], [1.8, 135.0, 99.0, 0.9]])\n"
   ],
   "metadata": {
    "collapsed": false,
    "ExecuteTime": {
     "end_time": "2024-01-28T23:42:11.508948500Z",
     "start_time": "2024-01-28T23:42:11.501263Z"
    }
   },
   "id": "9b8a8106d2bce010",
   "execution_count": 14
  },
  {
   "cell_type": "code",
   "outputs": [
    {
     "name": "stdout",
     "output_type": "stream",
     "text": [
      "[ 59.  239.  155.   76.9]\n"
     ]
    }
   ],
   "source": [
    "cal = A.sum(axis=0) # axis 0 is to sum vertically 1 is to sum horizontally\n",
    "print(cal)"
   ],
   "metadata": {
    "collapsed": false,
    "ExecuteTime": {
     "end_time": "2024-01-28T23:42:12.679316900Z",
     "start_time": "2024-01-28T23:42:12.670057400Z"
    }
   },
   "id": "47b9d6062311fa15",
   "execution_count": 15
  },
  {
   "cell_type": "code",
   "outputs": [
    {
     "name": "stdout",
     "output_type": "stream",
     "text": [
      "[[94.91525424  0.          2.58064516 88.42652796]\n",
      " [ 2.03389831 43.51464435 33.5483871  10.40312094]\n",
      " [ 3.05084746 56.48535565 63.87096774  1.17035111]]\n"
     ]
    }
   ],
   "source": [
    "percentage = 100*A/cal.reshape(1,4) # reshape is redundant here O(1) efficency, very cheap to call\n",
    "print(percentage) # Broadcasting occured by the cal matrix being expanded row wise to match the dimensions of A"
   ],
   "metadata": {
    "collapsed": false,
    "ExecuteTime": {
     "end_time": "2024-01-28T23:42:59.169037100Z",
     "start_time": "2024-01-28T23:42:59.158414100Z"
    }
   },
   "id": "2d833dbf397e6b97",
   "execution_count": 16
  },
  {
   "cell_type": "code",
   "outputs": [],
   "source": [
    "import numpy as np\n",
    "\n",
    "a = np.random.randn(5) # Rank 1 array (5,)\n",
    "b = np.random.randn(5,1) # Commit to shaping vectors like this to ensure they are column or row vectors (5, 1) or (1, 5)\n"
   ],
   "metadata": {
    "collapsed": false,
    "ExecuteTime": {
     "end_time": "2024-01-28T23:55:00.255852200Z",
     "start_time": "2024-01-28T23:55:00.243950100Z"
    }
   },
   "id": "1c5d3530679991e6",
   "execution_count": 24
  },
  {
   "cell_type": "code",
   "outputs": [
    {
     "name": "stdout",
     "output_type": "stream",
     "text": [
      "[ 0.49326035  1.1020425  -0.07130365 -0.39798997  0.00448504]\n",
      "[[ 0.06497221]\n",
      " [ 0.75339259]\n",
      " [ 0.20001257]\n",
      " [ 0.3065863 ]\n",
      " [-0.33932825]]\n"
     ]
    }
   ],
   "source": [
    "\n",
    "print(a)\n",
    "print(b)"
   ],
   "metadata": {
    "collapsed": false,
    "ExecuteTime": {
     "end_time": "2024-01-28T23:55:00.789709600Z",
     "start_time": "2024-01-28T23:55:00.783610100Z"
    }
   },
   "id": "c6605492f7d5e2c5",
   "execution_count": 25
  },
  {
   "cell_type": "code",
   "outputs": [
    {
     "name": "stdout",
     "output_type": "stream",
     "text": [
      "(5,)\n",
      "(5, 1)\n"
     ]
    }
   ],
   "source": [
    "print(a.shape)\n",
    "print(b.shape)"
   ],
   "metadata": {
    "collapsed": false,
    "ExecuteTime": {
     "end_time": "2024-01-28T23:55:01.508761300Z",
     "start_time": "2024-01-28T23:55:01.504266100Z"
    }
   },
   "id": "63571926cd2222ac",
   "execution_count": 26
  },
  {
   "cell_type": "code",
   "outputs": [
    {
     "name": "stdout",
     "output_type": "stream",
     "text": [
      "[ 0.49326035  1.1020425  -0.07130365 -0.39798997  0.00448504]\n",
      "[[ 0.06497221  0.75339259  0.20001257  0.3065863  -0.33932825]]\n"
     ]
    }
   ],
   "source": [
    "print(a.T)\n",
    "print(b.T)"
   ],
   "metadata": {
    "collapsed": false,
    "ExecuteTime": {
     "end_time": "2024-01-28T23:55:02.130539300Z",
     "start_time": "2024-01-28T23:55:02.125686500Z"
    }
   },
   "id": "bb5a7a5f0deaed27",
   "execution_count": 27
  },
  {
   "cell_type": "code",
   "outputs": [
    {
     "name": "stdout",
     "output_type": "stream",
     "text": [
      "1.621303779241168\n",
      "[[ 0.00422139  0.04894958  0.01299526  0.01991959 -0.02204691]\n",
      " [ 0.04894958  0.5676004   0.15068799  0.23097985 -0.25564739]\n",
      " [ 0.01299526  0.15068799  0.04000503  0.06132112 -0.06786992]\n",
      " [ 0.01991959  0.23097985  0.06132112  0.09399516 -0.10403339]\n",
      " [-0.02204691 -0.25564739 -0.06786992 -0.10403339  0.11514366]]\n"
     ]
    }
   ],
   "source": [
    "print(np.dot(a,a.T))\n",
    "print(np.dot(b,b.T))"
   ],
   "metadata": {
    "collapsed": false,
    "ExecuteTime": {
     "end_time": "2024-01-28T23:56:45.452717100Z",
     "start_time": "2024-01-28T23:56:45.438042900Z"
    }
   },
   "id": "7cef34aa911b5f2d",
   "execution_count": 29
  },
  {
   "cell_type": "code",
   "outputs": [
    {
     "name": "stdout",
     "output_type": "stream",
     "text": [
      "[[ 2.43305769e-01  5.43593865e-01 -3.51712624e-02 -1.96312669e-01\n",
      "   2.21229436e-03]\n",
      " [ 5.43593865e-01  1.21449767e+00 -7.85796511e-02 -4.38601857e-01\n",
      "   4.94270910e-03]\n",
      " [-3.51712624e-02 -7.85796511e-02  5.08421030e-03  2.83781367e-02\n",
      "  -3.19800001e-04]\n",
      " [-1.96312669e-01 -4.38601857e-01  2.83781367e-02  1.58396013e-01\n",
      "  -1.78500251e-03]\n",
      " [ 2.21229436e-03  4.94270910e-03 -3.19800001e-04 -1.78500251e-03\n",
      "   2.01156197e-05]]\n"
     ]
    }
   ],
   "source": [
    "a = a.reshape(5,1)\n",
    "assert(a.shape == (5,1))\n",
    "print(np.dot(a, a.T))"
   ],
   "metadata": {
    "collapsed": false,
    "ExecuteTime": {
     "end_time": "2024-01-28T23:58:19.152730100Z",
     "start_time": "2024-01-28T23:58:19.149208400Z"
    }
   },
   "id": "97d2d63ebaac73f8",
   "execution_count": 32
  },
  {
   "cell_type": "code",
   "outputs": [],
   "source": [],
   "metadata": {
    "collapsed": false
   },
   "id": "399eca2ae534839f"
  }
 ],
 "metadata": {
  "kernelspec": {
   "display_name": "Python 3",
   "language": "python",
   "name": "python3"
  },
  "language_info": {
   "codemirror_mode": {
    "name": "ipython",
    "version": 2
   },
   "file_extension": ".py",
   "mimetype": "text/x-python",
   "name": "python",
   "nbconvert_exporter": "python",
   "pygments_lexer": "ipython2",
   "version": "2.7.6"
  }
 },
 "nbformat": 4,
 "nbformat_minor": 5
}
